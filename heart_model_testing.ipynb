{
  "nbformat": 4,
  "nbformat_minor": 0,
  "metadata": {
    "colab": {
      "provenance": [],
      "authorship_tag": "ABX9TyN+PGa+6xemvuHpB6/aJrSY",
      "include_colab_link": true
    },
    "kernelspec": {
      "name": "python3",
      "display_name": "Python 3"
    },
    "language_info": {
      "name": "python"
    }
  },
  "cells": [
    {
      "cell_type": "markdown",
      "metadata": {
        "id": "view-in-github",
        "colab_type": "text"
      },
      "source": [
        "<a href=\"https://colab.research.google.com/github/Nihitha8819/Heart-Disease-Prediction-Using-Deep-Learning/blob/main/heart_model_testing.ipynb\" target=\"_parent\"><img src=\"https://colab.research.google.com/assets/colab-badge.svg\" alt=\"Open In Colab\"/></a>"
      ]
    },
    {
      "cell_type": "code",
      "execution_count": 10,
      "metadata": {
        "id": "LlRD8cbcLH7A"
      },
      "outputs": [],
      "source": [
        "labels='age\tsex\tcp\ttrestbps\trestecg\tthalach\texang\toldpeak\tslope\tca\tthal'.split()"
      ]
    },
    {
      "cell_type": "code",
      "source": [
        "input_data=[]\n",
        "for label in labels:\n",
        "  input_data.append(float(input(label + ': ')))\n",
        "input_data"
      ],
      "metadata": {
        "colab": {
          "base_uri": "https://localhost:8080/"
        },
        "id": "da4U7UoYNEt3",
        "outputId": "1cb7409c-4264-4be3-b800-cb71efe724f4"
      },
      "execution_count": 13,
      "outputs": [
        {
          "name": "stdout",
          "output_type": "stream",
          "text": [
            "age: 25\n",
            "sex: 1\n",
            "cp: 1\n",
            "trestbps: 1\n",
            "restecg: 1\n",
            "thalach: 1\n",
            "exang: 1\n",
            "oldpeak: 1\n",
            "slope: 1\n",
            "ca: 1\n",
            "thal: 1\n"
          ]
        },
        {
          "output_type": "execute_result",
          "data": {
            "text/plain": [
              "[25.0, 1.0, 1.0, 1.0, 1.0, 1.0, 1.0, 1.0, 1.0, 1.0, 1.0]"
            ]
          },
          "metadata": {},
          "execution_count": 13
        }
      ]
    },
    {
      "cell_type": "code",
      "source": [
        "import keras.models"
      ],
      "metadata": {
        "id": "psnLDzr6Rg6e"
      },
      "execution_count": 17,
      "outputs": []
    },
    {
      "cell_type": "code",
      "source": [
        "from keras.models import load_model\n",
        "import numpy as np\n",
        "model = load_model('/content/heart.h5')\n",
        "in_array = np.array([input_data])\n",
        "result = model.predict(in_array)\n",
        "if result > 0.5:\n",
        "  print(' heart disesae')\n",
        "else:\n",
        "    print(\"no disesae\")\n"
      ],
      "metadata": {
        "colab": {
          "base_uri": "https://localhost:8080/"
        },
        "id": "2K1Bjkw2OzIv",
        "outputId": "bc14e404-9cf0-4ba8-c117-9eb667ec812d"
      },
      "execution_count": 21,
      "outputs": [
        {
          "output_type": "stream",
          "name": "stderr",
          "text": [
            "WARNING:absl:Compiled the loaded model, but the compiled metrics have yet to be built. `model.compile_metrics` will be empty until you train or evaluate the model.\n"
          ]
        },
        {
          "output_type": "stream",
          "name": "stdout",
          "text": [
            "\u001b[1m1/1\u001b[0m \u001b[32m━━━━━━━━━━━━━━━━━━━━\u001b[0m\u001b[37m\u001b[0m \u001b[1m0s\u001b[0m 74ms/step\n",
            " heart disesae\n"
          ]
        }
      ]
    },
    {
      "cell_type": "code",
      "source": [],
      "metadata": {
        "id": "FaaNGxXuROC4"
      },
      "execution_count": null,
      "outputs": []
    }
  ]
}